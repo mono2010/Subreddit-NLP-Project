{
 "cells": [
  {
   "cell_type": "code",
   "execution_count": 1,
   "metadata": {},
   "outputs": [],
   "source": [
    "import pandas as pd # importing all the relevent packages for aquiring the data\n",
    "import requests\n",
    "import time"
   ]
  },
  {
   "cell_type": "code",
   "execution_count": 2,
   "metadata": {},
   "outputs": [],
   "source": [
    "df_comments = pd.DataFrame() # creating a blank DataFrame\n",
    "    \n",
    "params = {\n",
    "    'subreddit': ['wallstreetbets'], # setting parameters for Reddit API\n",
    "    'size': 500\n",
    "    }\n",
    "    \n",
    "url = 'https://api.pushshift.io/reddit/search/comment' # comments URL\n",
    "res = requests.get(url, params) # get url\n",
    "    \n",
    "data = res.json() # converting to json format\n",
    "posts = data['data'] #extracting the data\n",
    "i = posts[0]['created_utc'] # extracting the initial UTC timestamp for first batch of posts\n",
    "    \n",
    "for count in range(0, 50): # looping through multiple scrapes\n",
    "    params_2 = {\n",
    "        'subreddit': ['wallstreetbets'],\n",
    "        'size': 500,\n",
    "        'before' : i # variable for aquiring the next batch\n",
    "    }\n",
    "        \n",
    "    res = requests.get(url, params_2) # pulling next batch of posts\n",
    "    data = res.json() # converting to json\n",
    "    posts = data['data'] # extracting the data\n",
    "    i = posts[0]['created_utc'] # getting the new timestamp\n",
    "        \n",
    "    time.sleep(2) #pause 2 seconds\n",
    "    pd_posts = pd.DataFrame(posts) # converting to DataFrame\n",
    "    df_comments = pd.concat([df_comments, pd_posts], sort = False) # concating blank DataFrame with new data "
   ]
  },
  {
   "cell_type": "code",
   "execution_count": 3,
   "metadata": {},
   "outputs": [],
   "source": [
    "df_comments = df_comments[['body']] # extracting comments only"
   ]
  },
  {
   "cell_type": "code",
   "execution_count": 4,
   "metadata": {},
   "outputs": [],
   "source": [
    "df_comments.to_csv('wallstreetbets.csv', index = False) # exporting csv file"
   ]
  },
  {
   "cell_type": "code",
   "execution_count": 5,
   "metadata": {},
   "outputs": [],
   "source": [
    "df_comments = pd.DataFrame() # creating a blank DataFrame\n",
    "    \n",
    "params = {\n",
    "    'subreddit': ['gambling'], # setting parameters for Reddit API\n",
    "    'size': 500\n",
    "    }\n",
    "    \n",
    "url = 'https://api.pushshift.io/reddit/search/comment' # comments URL\n",
    "res = requests.get(url, params) # get url\n",
    "    \n",
    "data = res.json() # converting to json format\n",
    "posts = data['data'] #extracting the data\n",
    "i = posts[0]['created_utc'] # extracting the initial UTC timestamp for first batch of posts\n",
    "    \n",
    "for count in range(0, 50): # looping through multiple scrapes\n",
    "    params_2 = {\n",
    "        'subreddit': ['gambling'],\n",
    "        'size': 500,\n",
    "        'before' : i # variable for aquiring the next batch\n",
    "    }\n",
    "        \n",
    "    res = requests.get(url, params_2) # pulling next batch of posts\n",
    "    data = res.json() # converting to json\n",
    "    posts = data['data'] # extracting the data\n",
    "    i = posts[0]['created_utc'] # getting the new timestamp\n",
    "        \n",
    "    time.sleep(2) #pause 2 seconds\n",
    "    pd_posts = pd.DataFrame(posts) # converting to DataFrame\n",
    "    df_comments = pd.concat([df_comments, pd_posts], sort = False) # concating blank DataFrame with new data "
   ]
  },
  {
   "cell_type": "code",
   "execution_count": 6,
   "metadata": {},
   "outputs": [],
   "source": [
    "df_comments = df_comments[['body']] # extracting comments only"
   ]
  },
  {
   "cell_type": "code",
   "execution_count": 7,
   "metadata": {},
   "outputs": [],
   "source": [
    "df_comments.to_csv('gambling.csv', index = False) # exporting csv file"
   ]
  }
 ],
 "metadata": {
  "kernelspec": {
   "display_name": "Python [conda env:dsi]",
   "language": "python",
   "name": "conda-env-dsi-py"
  },
  "language_info": {
   "codemirror_mode": {
    "name": "ipython",
    "version": 3
   },
   "file_extension": ".py",
   "mimetype": "text/x-python",
   "name": "python",
   "nbconvert_exporter": "python",
   "pygments_lexer": "ipython3",
   "version": "3.7.5"
  }
 },
 "nbformat": 4,
 "nbformat_minor": 2
}
